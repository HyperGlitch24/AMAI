{
  "cells": [
    {
      "cell_type": "markdown",
      "metadata": {
        "id": "view-in-github",
        "colab_type": "text"
      },
      "source": [
        "<a href=\"https://colab.research.google.com/github/HyperGlitch24/AMAI/blob/main/Active_learning_tutorial.ipynb\" target=\"_parent\"><img src=\"https://colab.research.google.com/assets/colab-badge.svg\" alt=\"Open In Colab\"/></a>"
      ]
    },
    {
      "cell_type": "markdown",
      "id": "cf797c56",
      "metadata": {
        "id": "cf797c56"
      },
      "source": [
        "### Tutorial 6: Active Learning\n",
        "\n",
        "In this tutorial, we will explore the principles of Active Learning, focusing specifically on various query functions used to select the most informative samples from an unlabeled dataset. We will begin by training a model on a small initial training set of 100 samples, then incrementally add more samples using different query strategies. Each time we expand the training set, the model will be retrained from scratch. Unlike traditional approaches, we will demonstrate that Active Learning can achieve comparable performance using significantly less labeled data.\n",
        "\n",
        "The four query functions that we will learn about:\n",
        "- Entropy query\n",
        "- Best vs 2nd Best query\n",
        "- Low confidence\n",
        "- Monte-carlo sampling"
      ]
    },
    {
      "cell_type": "code",
      "execution_count": 2,
      "id": "2c7446f4",
      "metadata": {
        "id": "2c7446f4"
      },
      "outputs": [],
      "source": [
        "import torch\n",
        "import torchvision\n",
        "import torch.nn.functional as F\n",
        "import torchvision.transforms as transforms\n",
        "import torch.nn as nn\n",
        "from torch.utils.data import DataLoader, Subset, random_split\n",
        "import numpy as np"
      ]
    },
    {
      "cell_type": "markdown",
      "id": "4529d824",
      "metadata": {
        "id": "4529d824"
      },
      "source": [
        "### Data Loading\n",
        "\n",
        "We will use Cifar-10 in this notebook. The code to download is also provided !!"
      ]
    },
    {
      "cell_type": "code",
      "execution_count": 6,
      "id": "9179503f",
      "metadata": {
        "id": "9179503f"
      },
      "outputs": [],
      "source": [
        "device = torch.device('cuda' if torch.cuda.is_available() else 'cpu')\n",
        "transform = transforms.Compose([transforms.ToTensor()])\n",
        "\n",
        "# CIFAR-10 Dataset\n",
        "full_train = torchvision.datasets.CIFAR10(root='/app/src/data', train=True, download=True, transform=transform)\n",
        "test_set = torchvision.datasets.CIFAR10(root='/app/src/data', train=False, download=True, transform=transform)"
      ]
    },
    {
      "cell_type": "markdown",
      "id": "893ca41a",
      "metadata": {
        "id": "893ca41a"
      },
      "source": [
        "### Model Definition\n",
        "\n",
        "1. Use a simple CNN or a predefined ResNet Architecture from torch\n",
        "2. Make sure to use dropout which will help to implement the Monte-carlo sampling"
      ]
    },
    {
      "cell_type": "code",
      "execution_count": 12,
      "id": "90eb9721",
      "metadata": {
        "id": "90eb9721"
      },
      "outputs": [],
      "source": [
        "class SimpleCNN(torch.nn.Module):\n",
        "    def __init__(self):\n",
        "        super().__init__()\n",
        "        ''' TO-DO: Define the CNN architecture '''\n",
        "        self.conv = nn.Sequential(\n",
        "            nn.Conv2d(3, 32, kernel_size=3, padding=1),  # [B, 3, 32, 32] -> [B, 32, 32, 32]\n",
        "            nn.ReLU(),\n",
        "            nn.MaxPool2d(2),                             # -> [B, 32, 16, 16]\n",
        "            nn.Dropout(0.5),\n",
        "\n",
        "            nn.Conv2d(32, 64, kernel_size=3, padding=1), # -> [B, 64, 16, 16]\n",
        "            nn.ReLU(),\n",
        "            nn.MaxPool2d(2),                             # -> [B, 64, 8, 8]\n",
        "            nn.Dropout(0.5)\n",
        "\n",
        "        )\n",
        "\n",
        "        self.fc = nn.Sequential(\n",
        "            nn.Flatten(),                                # -> [B, 64*8*8]\n",
        "            nn.Linear(64 * 8 * 8, 256),\n",
        "            nn.ReLU(),\n",
        "            nn.Dropout(0.5),\n",
        "            nn.Linear(256, 10)  # CIFAR-10: 10 classes\n",
        "        )\n",
        "\n",
        "        #self.dropout = torch.nn.Dropout(0.5)\n",
        "\n",
        "\n",
        "    def forward(self, x):\n",
        "        x = self.conv(x)\n",
        "        x = self.fc(x)\n",
        "\n",
        "        return x\n",
        "\n",
        "from torchvision.models import resnet18\n",
        "# Train Function\n",
        "def train(model, dataloader, optimizer):\n",
        "    model.train()\n",
        "    criterion = nn.CrossEntropyLoss()\n",
        "\n",
        "    for images, labels in dataloader:\n",
        "        images, labels = images.to(device), labels.to(device)\n",
        "\n",
        "        optimizer.zero_grad()\n",
        "        outputs = model(images)\n",
        "        loss = criterion(outputs, labels)\n",
        "        loss.backward()\n",
        "        optimizer.step()\n",
        "\n",
        "\n",
        "# Evaluate Function\n",
        "def evaluate(model, dataloader):\n",
        "    model.eval()\n",
        "    correct, total = 0, 0\n",
        "\n",
        "    with torch.no_grad():\n",
        "        for images, labels in dataloader:\n",
        "            images, labels = images.to(device), labels.to(device)\n",
        "            outputs = model(images)\n",
        "            _, predicted = torch.max(outputs.data, 1)\n",
        "            total += labels.size(0)\n",
        "            correct += (predicted == labels).sum().item()\n",
        "\n",
        "    return correct / total\n"
      ]
    },
    {
      "cell_type": "markdown",
      "id": "f00ccf48",
      "metadata": {
        "id": "f00ccf48"
      },
      "source": [
        "### Train a baseline model for reference on the entire dataset"
      ]
    },
    {
      "cell_type": "code",
      "execution_count": 13,
      "id": "e819fd96",
      "metadata": {
        "id": "e819fd96",
        "outputId": "33725158-6e5a-4fd8-aaee-d52e5e756945",
        "colab": {
          "base_uri": "https://localhost:8080/"
        }
      },
      "outputs": [
        {
          "output_type": "stream",
          "name": "stdout",
          "text": [
            "Epoch 1, Accuracy: 0.4521\n",
            "Epoch 2, Accuracy: 0.4273\n",
            "Epoch 3, Accuracy: 0.5702\n",
            "Epoch 4, Accuracy: 0.5980\n",
            "Epoch 5, Accuracy: 0.6032\n",
            "Epoch 6, Accuracy: 0.6277\n",
            "Epoch 7, Accuracy: 0.6269\n",
            "Epoch 8, Accuracy: 0.6489\n",
            "Epoch 9, Accuracy: 0.6601\n",
            "Epoch 10, Accuracy: 0.6441\n",
            "Epoch 11, Accuracy: 0.6594\n",
            "Epoch 12, Accuracy: 0.6742\n",
            "Epoch 13, Accuracy: 0.6535\n",
            "Epoch 14, Accuracy: 0.6710\n",
            "Epoch 15, Accuracy: 0.6969\n",
            "Epoch 16, Accuracy: 0.7046\n",
            "Epoch 17, Accuracy: 0.7057\n",
            "Epoch 18, Accuracy: 0.7048\n",
            "Epoch 19, Accuracy: 0.7168\n",
            "Epoch 20, Accuracy: 0.7178\n",
            "Epoch 21, Accuracy: 0.7141\n",
            "Epoch 22, Accuracy: 0.7264\n",
            "Epoch 23, Accuracy: 0.7269\n",
            "Epoch 24, Accuracy: 0.7295\n",
            "Epoch 25, Accuracy: 0.7339\n",
            "Epoch 26, Accuracy: 0.7377\n",
            "Epoch 27, Accuracy: 0.7355\n",
            "Epoch 28, Accuracy: 0.7397\n",
            "Epoch 29, Accuracy: 0.7421\n",
            "Epoch 30, Accuracy: 0.7412\n"
          ]
        }
      ],
      "source": [
        "model = SimpleCNN().to(device)\n",
        "\n",
        "optimizer = torch.optim.SGD(model.parameters(), lr=1e-1)\n",
        "dataloader = DataLoader(full_train, batch_size=32, shuffle=True)\n",
        "test_loader = DataLoader(test_set, batch_size=32, shuffle=False)\n",
        "scheduler = torch.optim.lr_scheduler.CosineAnnealingLR(optimizer, T_max=30, eta_min=1e-5)\n",
        "\n",
        "# Training Loop\n",
        "for epoch in range(30):\n",
        "    train(model, dataloader, optimizer)\n",
        "    accuracy = evaluate(model, test_loader)\n",
        "    scheduler.step()\n",
        "    print(f'Epoch {epoch + 1}, Accuracy: {accuracy:.4f}')"
      ]
    },
    {
      "cell_type": "markdown",
      "id": "2a09d3cd",
      "metadata": {
        "id": "2a09d3cd"
      },
      "source": [
        "### Query Sampler function\n",
        "\n",
        "\n",
        "Define the following query function methods under the QuerySampler class\n",
        "\n",
        "1. Entropy Query\n",
        "2. Best vs 2nd Best Query function\n",
        "3. Lowest confidence query\n",
        "4. Monte-Carlo Sampling\n",
        "\n"
      ]
    },
    {
      "cell_type": "code",
      "execution_count": null,
      "id": "7ef70df7",
      "metadata": {
        "id": "7ef70df7"
      },
      "outputs": [],
      "source": [
        "from tqdm import tqdm\n",
        "class QuerySampler:\n",
        "    def __init__(self, n_samples):\n",
        "        #self.model = model\n",
        "        #self.unlabeled_loader = unlabeled_loader\n",
        "        self.n_samples = n_samples\n",
        "\n",
        "    def entropy_query(self,model, unlabeled_loader):\n",
        "        model.eval()\n",
        "        ''' Calculate entropy for each sample in the unlabeled dataset and return indices of the top uncertain samples '''\n",
        "        return [all_indices[i] for i in top_indices]\n",
        "\n",
        "    def enable_dropout(self,model):\n",
        "        for m in model.modules():\n",
        "            if isinstance(m, nn.Dropout):\n",
        "                m.train()\n",
        "    def montecarlo_sampling(self, model, unlabeled_loader):\n",
        "        model.eval()\n",
        "        self.enable_dropout(model)\n",
        "\n",
        "        all_probs = []\n",
        "        with torch.no_grad():\n",
        "            ''' Perform multiple forward passes to get predictions with dropout enabled for MonteCarlo sampling\n",
        "                and calculate entropy for each sample over the mean of the predictions'''\n",
        "        return topk_indices #entropy.numpy()\n",
        "    def least_confidence_query(self, model, unlabeled_loader):\n",
        "        model.eval()\n",
        "        ''' Calculate least confidence for each sample in the unlabeled dataset and return indices of the top uncertain samples '''\n",
        "\n",
        "\n",
        "\n",
        "        return [all_indices[i] for i in top_indices]\n",
        "\n",
        "    def BVB_query(self, model, unlabeled_loader):\n",
        "        model.eval()\n",
        "        ''' Compare the top two predictions for each sample in the unlabeled dataset and return indices of the top uncertain samples '''\n",
        "        return [all_indices[i] for i in top_indices]\n",
        "\n",
        "\n",
        "\n",
        "\n",
        "# Initial Split\n",
        "INITIAL_SIZE = 100\n",
        "BATCH_SIZE = 32\n",
        "QUERY_SIZE = 1500\n",
        "EPOCHS = 25\n",
        "ITERATIONS = 20\n",
        "\n",
        "query = QuerySampler(QUERY_SIZE)\n"
      ]
    },
    {
      "cell_type": "markdown",
      "id": "5e49fba5",
      "metadata": {
        "id": "5e49fba5"
      },
      "source": [
        "### Train your model with Active Query\n",
        "\n",
        "1. Split the dataset into labeled and unlabeled set. Set the initial labeled set to 100 for example.\n",
        "2. Train the model to convergence with the intial labeled set\n",
        "3. Now use the unlabeled dataset to choose N samples using active query functions\n",
        "4. Combine the initial labeled set with the choosen sample\n",
        "5. Train the model from scratch\n",
        "6. Repeat until you reach the baseline performance"
      ]
    },
    {
      "cell_type": "code",
      "execution_count": null,
      "id": "da671786",
      "metadata": {
        "id": "da671786"
      },
      "outputs": [],
      "source": [
        "labeled_indices = np.random.choice(len(full_train), INITIAL_SIZE, replace=False).tolist()\n",
        "unlabeled_indices = list(set(range(len(full_train))) - set(labeled_indices))\n",
        "total_acc = []\n",
        "for iteration in range(ITERATIONS):\n",
        "    print(f\"\\n--- Iteration {iteration + 1} ---\")\n",
        "    ''' Create labeled and unlabeled datasets based on the current indices\n",
        "     And train the model on multiple iterations of Active query learning '''"
      ]
    },
    {
      "cell_type": "markdown",
      "id": "f6377f1b",
      "metadata": {
        "id": "f6377f1b"
      },
      "source": [
        "### Visualize performance of the model across all the query functions  "
      ]
    },
    {
      "cell_type": "code",
      "execution_count": null,
      "id": "544b7fdb",
      "metadata": {
        "id": "544b7fdb",
        "outputId": "3c049275-0638-43fe-8eb2-e00349649d73"
      },
      "outputs": [
        {
          "name": "stderr",
          "output_type": "stream",
          "text": [
            "/tmp/ipykernel_8142/1601215045.py:3: FutureWarning: You are using `torch.load` with `weights_only=False` (the current default value), which uses the default pickle module implicitly. It is possible to construct malicious pickle data which will execute arbitrary code during unpickling (See https://github.com/pytorch/pytorch/blob/main/SECURITY.md#untrusted-models for more details). In a future release, the default value for `weights_only` will be flipped to `True`. This limits the functions that could be executed during unpickling. Arbitrary objects will no longer be allowed to be loaded via this mode unless they are explicitly allowlisted by the user via `torch.serialization.add_safe_globals`. We recommend you start setting `weights_only=True` for any use case where you don't have full control of the loaded file. Please open an issue on GitHub for any issues related to this experimental feature.\n",
            "  file = torch.load('/app/src/cifar10_lcnfidence.pth')\n"
          ]
        },
        {
          "data": {
            "image/png": "[encoded data removed]",
            "text/plain": [
              "<Figure size 640x480 with 1 Axes>"
            ]
          },
          "metadata": {},
          "output_type": "display_data"
        }
      ],
      "source": [
        "import torch\n",
        "import matplotlib.pyplot as plt\n",
        " ''' Plotting the accuracy over iterations '''\n",
        "\n",
        "plt.legend()\n",
        "plt.show()"
      ]
    },
    {
      "cell_type": "markdown",
      "id": "93c34c36",
      "metadata": {
        "id": "93c34c36"
      },
      "source": [
        "### Active Learning with Corrupted Cifar-10\n",
        "\n",
        "Now that we have seen how different query functions help in selecting more informative samples, we will make the training conditions more challenging by introducing corrupted samples alongside the clean ones. Specifically, we will use the Corrupted CIFAR-10 dataset mixed with the standard CIFAR-10 dataset. The goal is to evaluate whether the query functions can effectively prioritize clean CIFAR-10 samples while ignoring the corrupted ones. Begin by downloading the Corrupted CIFAR-10 dataset, which includes various types of corruptions. Choose one or more corruption types to combine with the clean CIFAR-10 data for this experiment.\n",
        "\n",
        "Then, we will similarily train the models using the four query functions.\n",
        "\n",
        "First, Download the corrupted Cifar-10: https://zenodo.org/records/2535967"
      ]
    },
    {
      "cell_type": "code",
      "execution_count": null,
      "id": "530ad872",
      "metadata": {
        "id": "530ad872"
      },
      "outputs": [],
      "source": [
        "import tarfile\n",
        "\n",
        "tar_path = \"/app/src/CIFAR-10-C.tar\"\n",
        "extract_path = \"/app/src/\"\n",
        "\n",
        "with tarfile.open(tar_path, \"r\") as tar:\n",
        "    tar.extractall(path=extract_path)"
      ]
    },
    {
      "cell_type": "code",
      "execution_count": null,
      "id": "643ea58d",
      "metadata": {
        "id": "643ea58d",
        "outputId": "e876c223-042b-4376-d8d8-a19c7cbe22ec"
      },
      "outputs": [
        {
          "data": {
            "text/plain": [
              "(50000, 32, 32, 3)"
            ]
          },
          "execution_count": 104,
          "metadata": {},
          "output_type": "execute_result"
        }
      ],
      "source": [
        "import numpy as np\n",
        "file = np.load('/app/src/CIFAR-10-C/brightness.npy')\n",
        "file.shape"
      ]
    },
    {
      "cell_type": "markdown",
      "id": "b41e8196",
      "metadata": {
        "id": "b41e8196"
      },
      "source": [
        "### Combine the corrupted samples with the clean instances"
      ]
    },
    {
      "cell_type": "code",
      "execution_count": null,
      "id": "48ab9033",
      "metadata": {
        "id": "48ab9033"
      },
      "outputs": [],
      "source": [
        "full_train.data = np.concatenate([full_train.data, file])\n",
        "full_train.data.shape\n",
        "full_train.targets = full_train.targets + full_train.targets\n",
        "len(full_train.targets)\n",
        "labeled_indices = np.random.choice(50000, INITIAL_SIZE, replace=False).tolist()\n",
        "unlabeled_indices = list(set(range(len(full_train))) - set(labeled_indices))"
      ]
    },
    {
      "cell_type": "markdown",
      "id": "7c2d575d",
      "metadata": {
        "id": "7c2d575d"
      },
      "source": [
        "### Test the different query functions with corrupted Cifar-10"
      ]
    },
    {
      "cell_type": "code",
      "execution_count": null,
      "id": "64c006a5",
      "metadata": {
        "id": "64c006a5"
      },
      "outputs": [],
      "source": [
        "from tqdm import tqdm\n",
        "\n",
        "''' Call or define QuerySampler class here'''\n",
        "\n",
        "\n",
        "\n",
        "\n",
        "# Initial Split\n",
        "INITIAL_SIZE = 100\n",
        "BATCH_SIZE = 32\n",
        "QUERY_SIZE = 1500\n",
        "EPOCHS = 25\n",
        "ITERATIONS = 20\n",
        "\n",
        "query = QuerySampler(QUERY_SIZE)\n",
        "#labeled_indices = np.random.choice(len(full_train), INITIAL_SIZE, replace=False).tolist()\n",
        "#unlabeled_indices = list(set(range(len(full_train))) - set(labeled_indices))\n",
        "total_acc = []\n",
        "for iteration in range(ITERATIONS):\n",
        "''' Train the model on multiple iterations of Active query learning on CIFAR-10-C dataset '''\n"
      ]
    },
    {
      "cell_type": "markdown",
      "id": "773f6775",
      "metadata": {
        "id": "773f6775"
      },
      "source": [
        "### Investigate the performance of the query functions\n",
        "\n",
        "You have probably found out that the model doesn't achieve the similar performance by adding some corrupted samples.\n",
        "Now, let us investigate what type of samples are selected by the different query functions.\n",
        "\n",
        "1. Compare the number of clean samples selected by the query functions\n",
        "2. Compare the number of corrupted samples selected by the query functions\n",
        "3. Try to experiment with the hyperparameters such as the initial number of labeled samples and see whether it makes the difference or not.\n",
        "\n",
        "Visualize the findings !!\n"
      ]
    },
    {
      "cell_type": "code",
      "execution_count": null,
      "id": "5a79a82a",
      "metadata": {
        "id": "5a79a82a"
      },
      "outputs": [],
      "source": [
        "## To-do ###\n"
      ]
    },
    {
      "cell_type": "code",
      "execution_count": null,
      "id": "68cd194a",
      "metadata": {
        "id": "68cd194a"
      },
      "outputs": [],
      "source": []
    }
  ],
  "metadata": {
    "kernelspec": {
      "display_name": "Python 3 (ipykernel)",
      "language": "python",
      "name": "python3"
    },
    "language_info": {
      "codemirror_mode": {
        "name": "ipython",
        "version": 3
      },
      "file_extension": ".py",
      "mimetype": "text/x-python",
      "name": "python",
      "nbconvert_exporter": "python",
      "pygments_lexer": "ipython3",
      "version": "3.10.12"
    },
    "colab": {
      "provenance": [],
      "include_colab_link": true
    }
  },
  "nbformat": 4,
  "nbformat_minor": 5
}