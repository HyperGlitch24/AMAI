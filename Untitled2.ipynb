{
 "cells": [
  {
   "cell_type": "code",
   "execution_count": 17,
   "id": "e6501a8b-72a1-4149-9a79-668076793087",
   "metadata": {
    "scrolled": true
   },
   "outputs": [
    {
     "name": "stdout",
     "output_type": "stream",
     "text": [
      "Requirement already satisfied: pytesseract in c:\\users\\sriva\\anaconda3\\lib\\site-packages (0.3.13)\n",
      "Requirement already satisfied: packaging>=21.3 in c:\\users\\sriva\\anaconda3\\lib\\site-packages (from pytesseract) (24.1)\n",
      "Requirement already satisfied: Pillow>=8.0.0 in c:\\users\\sriva\\anaconda3\\lib\\site-packages (from pytesseract) (10.4.0)\n",
      "Requirement already satisfied: pdf2image in c:\\users\\sriva\\anaconda3\\lib\\site-packages (1.17.0)\n",
      "Requirement already satisfied: pillow in c:\\users\\sriva\\anaconda3\\lib\\site-packages (from pdf2image) (10.4.0)\n",
      "Requirement already satisfied: pillow in c:\\users\\sriva\\anaconda3\\lib\\site-packages (10.4.0)\n",
      "Collecting pdfplumber\n",
      "  Downloading pdfplumber-0.11.5-py3-none-any.whl.metadata (42 kB)\n",
      "Collecting pdfminer.six==20231228 (from pdfplumber)\n",
      "  Downloading pdfminer.six-20231228-py3-none-any.whl.metadata (4.2 kB)\n",
      "Requirement already satisfied: Pillow>=9.1 in c:\\users\\sriva\\anaconda3\\lib\\site-packages (from pdfplumber) (10.4.0)\n",
      "Collecting pypdfium2>=4.18.0 (from pdfplumber)\n",
      "  Downloading pypdfium2-4.30.1-py3-none-win_amd64.whl.metadata (48 kB)\n",
      "Requirement already satisfied: charset-normalizer>=2.0.0 in c:\\users\\sriva\\anaconda3\\lib\\site-packages (from pdfminer.six==20231228->pdfplumber) (3.3.2)\n",
      "Requirement already satisfied: cryptography>=36.0.0 in c:\\users\\sriva\\anaconda3\\lib\\site-packages (from pdfminer.six==20231228->pdfplumber) (43.0.0)\n",
      "Requirement already satisfied: cffi>=1.12 in c:\\users\\sriva\\anaconda3\\lib\\site-packages (from cryptography>=36.0.0->pdfminer.six==20231228->pdfplumber) (1.17.1)\n",
      "Requirement already satisfied: pycparser in c:\\users\\sriva\\anaconda3\\lib\\site-packages (from cffi>=1.12->cryptography>=36.0.0->pdfminer.six==20231228->pdfplumber) (2.21)\n",
      "Downloading pdfplumber-0.11.5-py3-none-any.whl (59 kB)\n",
      "Downloading pdfminer.six-20231228-py3-none-any.whl (5.6 MB)\n",
      "   ---------------------------------------- 0.0/5.6 MB ? eta -:--:--\n",
      "   - -------------------------------------- 0.3/5.6 MB ? eta -:--:--\n",
      "   ------- -------------------------------- 1.0/5.6 MB 2.8 MB/s eta 0:00:02\n",
      "   ----------- ---------------------------- 1.6/5.6 MB 2.8 MB/s eta 0:00:02\n",
      "   -------------- ------------------------- 2.1/5.6 MB 2.9 MB/s eta 0:00:02\n",
      "   ------------------ --------------------- 2.6/5.6 MB 2.7 MB/s eta 0:00:02\n",
      "   -------------------- ------------------- 2.9/5.6 MB 2.7 MB/s eta 0:00:02\n",
      "   ------------------------ --------------- 3.4/5.6 MB 2.5 MB/s eta 0:00:01\n",
      "   ---------------------------- ----------- 3.9/5.6 MB 2.5 MB/s eta 0:00:01\n",
      "   ------------------------------- -------- 4.5/5.6 MB 2.5 MB/s eta 0:00:01\n",
      "   ----------------------------------- ---- 5.0/5.6 MB 2.5 MB/s eta 0:00:01\n",
      "   ---------------------------------------- 5.6/5.6 MB 2.6 MB/s eta 0:00:00\n",
      "Downloading pypdfium2-4.30.1-py3-none-win_amd64.whl (3.0 MB)\n",
      "   ---------------------------------------- 0.0/3.0 MB ? eta -:--:--\n",
      "   ------- -------------------------------- 0.5/3.0 MB 3.4 MB/s eta 0:00:01\n",
      "   ---------- ----------------------------- 0.8/3.0 MB 3.0 MB/s eta 0:00:01\n",
      "   ----------------- ---------------------- 1.3/3.0 MB 2.3 MB/s eta 0:00:01\n",
      "   ------------------------ --------------- 1.8/3.0 MB 2.4 MB/s eta 0:00:01\n",
      "   ------------------------------- -------- 2.4/3.0 MB 2.4 MB/s eta 0:00:01\n",
      "   ---------------------------------------- 3.0/3.0 MB 2.4 MB/s eta 0:00:00\n",
      "Installing collected packages: pypdfium2, pdfminer.six, pdfplumber\n",
      "Successfully installed pdfminer.six-20231228 pdfplumber-0.11.5 pypdfium2-4.30.1\n"
     ]
    }
   ],
   "source": [
    "!pip install pytesseract\n",
    "!pip install pdf2image\n",
    "!pip install pillow\n",
    "!pip install pdfplumber\n"
   ]
  },
  {
   "cell_type": "code",
   "execution_count": 82,
   "id": "e2e756ce-8b81-41ac-b9b8-d4de3a2526cc",
   "metadata": {},
   "outputs": [],
   "source": [
    "import pytesseract\n",
    "import pdfplumber\n",
    "from pdf2image import convert_from_path\n",
    "import sqlite3\n",
    "from PIL import Image\n",
    "import re\n"
   ]
  },
  {
   "cell_type": "markdown",
   "id": "2b28ce74-a8d3-43ac-bc9a-792a25fc447e",
   "metadata": {},
   "source": [
    "# Database setup "
   ]
  },
  {
   "cell_type": "code",
   "execution_count": 21,
   "id": "e512b84a-3c8c-4a86-ba31-aa75132e1f87",
   "metadata": {},
   "outputs": [],
   "source": [
    "def create_database():\n",
    "    conn = sqlite3.connect(bank_statements.db)\n",
    "    cursor = conn.cursor()\n",
    "    cursor.execute('''CREATE TABLE IF NOT EXISTS transactions (\n",
    "                        id INTEGER PRIMARY KEY AUTOINCREMENT,\n",
    "                        date TEXT, \n",
    "                        description TEXT, \n",
    "                        amount REAL)''')\n",
    "    conn.commit()\n",
    "    conn.close()\n",
    "    "
   ]
  },
  {
   "cell_type": "markdown",
   "id": "38e3ed7e-5e5b-4988-a03e-29720d093306",
   "metadata": {},
   "source": [
    "# Extracting text from PDFs"
   ]
  },
  {
   "cell_type": "code",
   "execution_count": 40,
   "id": "99d67714-1706-47c2-ab3c-516210658f96",
   "metadata": {},
   "outputs": [],
   "source": [
    "def extract_text_from_pdf():\n",
    "    text_data=\"\"\n",
    "    with pdfplumber.open(\"1.pdf\") as pdf:\n",
    "        for page in pdf.pages:\n",
    "            text = page.extract_text()\n",
    "            if text:\n",
    "                text_data += text + \"\\n\"\n",
    "    return text_data\n",
    "    \n",
    "\n",
    "        "
   ]
  },
  {
   "cell_type": "markdown",
   "id": "11095581-386e-41e7-b960-adeb2c816ba9",
   "metadata": {},
   "source": [
    "# Extracting text from Image based Pdfs (OCR)\n"
   ]
  },
  {
   "cell_type": "code",
   "execution_count": null,
   "id": "374e215e-701b-41f3-b6fc-f01d1a79c6cb",
   "metadata": {},
   "outputs": [],
   "source": [
    "def ocr_from_pdf():\n",
    "    pop= r\"D:\\downloads\\Release-24.08.0-0\\poppler-24.08.0\\Library\\bin\"\n",
    "    pdf = r\"\"\n",
    "    images = convert_from_path(pdf_path = pdf, poppler_path = pop)\n",
    "    text = \"\"\n",
    "    for img in images:\n",
    "        text += pytessetact.image_to_string(img) + \"\\n\"\n",
    "    return text\n",
    "        \n",
    "    \n",
    "    "
   ]
  },
  {
   "cell_type": "code",
   "execution_count": 96,
   "id": "5fa08da0-b2a8-4256-b854-b06a431f8fd2",
   "metadata": {},
   "outputs": [
    {
     "data": {
      "text/plain": [
       "'Bank Statement\\n\\nBank Name: XYZ Bank\\nAccount Holder: John Doe\\nAccount Number: 123456789\\nStatement Date: February 2024\\n\\nDescription Amount\\n\\n$-428.21\\n$461.28\\n\\n02-04-24\\n02-09-24\\n\\n02-03-24\\n\\n02-13-24 $462.22\\n\\n$-274.91\\n$416.84\\n$346.51\\n\\n02-18-24\\n02-27-24\\n\\n02-25-24\\n\\n\\n'"
      ]
     },
     "execution_count": 96,
     "metadata": {},
     "output_type": "execute_result"
    }
   ],
   "source": [
    "pop= r\"D:\\downloads\\Release-24.08.0-0\\poppler-24.08.0\\Library\\bin\"\n",
    "pdf = r\"bank_statement (2).pdf\"\n",
    "images = convert_from_path(pdf_path = pdf, poppler_path = pop)\n",
    "text = \"\"\n",
    "for img in images:\n",
    "    text += pytesseract.image_to_string(img) + \"\\n\"\n",
    "text"
   ]
  },
  {
   "cell_type": "code",
   "execution_count": 58,
   "id": "0bfc9168-285d-463a-8593-7112bbb24347",
   "metadata": {},
   "outputs": [
    {
     "name": "stdout",
     "output_type": "stream",
     "text": [
      "Collecting tabula-py\n",
      "  Downloading tabula_py-2.10.0-py3-none-any.whl.metadata (7.6 kB)\n",
      "Requirement already satisfied: pandas>=0.25.3 in c:\\users\\sriva\\anaconda3\\lib\\site-packages (from tabula-py) (2.2.2)\n",
      "Requirement already satisfied: numpy>1.24.4 in c:\\users\\sriva\\anaconda3\\lib\\site-packages (from tabula-py) (1.26.4)\n",
      "Requirement already satisfied: distro in c:\\users\\sriva\\anaconda3\\lib\\site-packages (from tabula-py) (1.9.0)\n",
      "Requirement already satisfied: python-dateutil>=2.8.2 in c:\\users\\sriva\\appdata\\roaming\\python\\python312\\site-packages (from pandas>=0.25.3->tabula-py) (2.9.0.post0)\n",
      "Requirement already satisfied: pytz>=2020.1 in c:\\users\\sriva\\anaconda3\\lib\\site-packages (from pandas>=0.25.3->tabula-py) (2024.1)\n",
      "Requirement already satisfied: tzdata>=2022.7 in c:\\users\\sriva\\anaconda3\\lib\\site-packages (from pandas>=0.25.3->tabula-py) (2023.3)\n",
      "Requirement already satisfied: six>=1.5 in c:\\users\\sriva\\appdata\\roaming\\python\\python312\\site-packages (from python-dateutil>=2.8.2->pandas>=0.25.3->tabula-py) (1.16.0)\n",
      "Downloading tabula_py-2.10.0-py3-none-any.whl (12.0 MB)\n",
      "   ---------------------------------------- 0.0/12.0 MB ? eta -:--:--\n",
      "   - -------------------------------------- 0.5/12.0 MB 2.8 MB/s eta 0:00:05\n",
      "   --- ------------------------------------ 1.0/12.0 MB 3.1 MB/s eta 0:00:04\n",
      "   ----- ---------------------------------- 1.6/12.0 MB 3.1 MB/s eta 0:00:04\n",
      "   ------- -------------------------------- 2.4/12.0 MB 3.1 MB/s eta 0:00:04\n",
      "   -------- ------------------------------- 2.6/12.0 MB 3.1 MB/s eta 0:00:03\n",
      "   ---------- ----------------------------- 3.1/12.0 MB 2.6 MB/s eta 0:00:04\n",
      "   ------------ --------------------------- 3.7/12.0 MB 2.6 MB/s eta 0:00:04\n",
      "   ------------- -------------------------- 3.9/12.0 MB 2.5 MB/s eta 0:00:04\n",
      "   -------------- ------------------------- 4.5/12.0 MB 2.4 MB/s eta 0:00:04\n",
      "   --------------- ------------------------ 4.7/12.0 MB 2.3 MB/s eta 0:00:04\n",
      "   ---------------- ----------------------- 5.0/12.0 MB 2.3 MB/s eta 0:00:04\n",
      "   ------------------ --------------------- 5.5/12.0 MB 2.2 MB/s eta 0:00:03\n",
      "   -------------------- ------------------- 6.0/12.0 MB 2.3 MB/s eta 0:00:03\n",
      "   --------------------- ------------------ 6.6/12.0 MB 2.3 MB/s eta 0:00:03\n",
      "   ------------------------ --------------- 7.3/12.0 MB 2.4 MB/s eta 0:00:02\n",
      "   --------------------------- ------------ 8.1/12.0 MB 2.5 MB/s eta 0:00:02\n",
      "   ---------------------------- ----------- 8.7/12.0 MB 2.5 MB/s eta 0:00:02\n",
      "   ------------------------------ --------- 9.2/12.0 MB 2.5 MB/s eta 0:00:02\n",
      "   --------------------------------- ------ 10.0/12.0 MB 2.5 MB/s eta 0:00:01\n",
      "   ---------------------------------- ----- 10.2/12.0 MB 2.6 MB/s eta 0:00:01\n",
      "   ---------------------------------- ----- 10.5/12.0 MB 2.5 MB/s eta 0:00:01\n",
      "   ------------------------------------ --- 11.0/12.0 MB 2.5 MB/s eta 0:00:01\n",
      "   ------------------------------------- -- 11.3/12.0 MB 2.4 MB/s eta 0:00:01\n",
      "   -------------------------------------- - 11.5/12.0 MB 2.3 MB/s eta 0:00:01\n",
      "   -------------------------------------- - 11.5/12.0 MB 2.3 MB/s eta 0:00:01\n",
      "   ---------------------------------------- 12.0/12.0 MB 2.3 MB/s eta 0:00:00\n",
      "Installing collected packages: tabula-py\n",
      "Successfully installed tabula-py-2.10.0\n"
     ]
    }
   ],
   "source": [
    "!pip install tabula-py"
   ]
  },
  {
   "cell_type": "code",
   "execution_count": 66,
   "id": "16c4df83-841b-4c92-8ba1-b878b63f7140",
   "metadata": {},
   "outputs": [],
   "source": [
    "import tabula"
   ]
  },
  {
   "cell_type": "code",
   "execution_count": 77,
   "id": "77cf23bb-5a5b-440e-b6db-8ba5355be71b",
   "metadata": {},
   "outputs": [
    {
     "data": {
      "text/plain": [
       "0"
      ]
     },
     "execution_count": 77,
     "metadata": {},
     "output_type": "execute_result"
    }
   ],
   "source": [
    "pdf_path = \"Bank-Statement-Template-1-TemplateLab-1.pdf\"\n",
    "dfs = tabula.read_pdf(pdf_path, pages = 1)\n",
    "len(dfs)"
   ]
  },
  {
   "cell_type": "markdown",
   "id": "815adf8c-04b1-4a70-94a1-95d3418230be",
   "metadata": {},
   "source": [
    "# Storing the transactions in the database"
   ]
  },
  {
   "cell_type": "code",
   "execution_count": 54,
   "id": "6df1cb4f-6440-4177-9af0-fcb539b39c07",
   "metadata": {},
   "outputs": [],
   "source": [
    "def store_in_database():\n",
    "    conn = sqlite3.connect(\"bank_statements.db\")\n",
    "    cursor = conn.cursor()\n",
    "    cursor.executemany(\"INSERT INTO transactions (date, description, amount) VALUES (?, ?, ?)\", transactions)\n",
    "    conn.commit()\n",
    "    conn.close()\n",
    "    \n",
    "    \n",
    "    "
   ]
  },
  {
   "cell_type": "markdown",
   "id": "85118afc-5d15-48ad-80e0-3375b4d6f335",
   "metadata": {},
   "source": [
    "# Main function to process pdfs"
   ]
  },
  {
   "cell_type": "code",
   "execution_count": null,
   "id": "c7205de8-79a3-4ece-8f86-22495b08ff46",
   "metadata": {},
   "outputs": [],
   "source": [
    "def process_pdf():\n",
    "    text = extract_text_from_pdf() or ocr_from_pdf()\n",
    "    transactions =\n",
    "    store_in_database(transactions)\n",
    "\n",
    "if __name__ = \"__main__\":\n",
    "    create_database()\n",
    "    pdf_path = \"sample_statement.pdf\"\n",
    "    process_pdf(pdf_path)\n",
    "\n"
   ]
  }
 ],
 "metadata": {
  "kernelspec": {
   "display_name": "Python 3 (ipykernel)",
   "language": "python",
   "name": "python3"
  },
  "language_info": {
   "codemirror_mode": {
    "name": "ipython",
    "version": 3
   },
   "file_extension": ".py",
   "mimetype": "text/x-python",
   "name": "python",
   "nbconvert_exporter": "python",
   "pygments_lexer": "ipython3",
   "version": "3.12.7"
  }
 },
 "nbformat": 4,
 "nbformat_minor": 5
}
