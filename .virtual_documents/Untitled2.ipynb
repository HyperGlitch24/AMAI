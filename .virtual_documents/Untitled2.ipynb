!pip install pytesseract
!pip install pdf2image
!pip install pillow
!pip install pdfplumber



import pytesseract
import pdfplumber
from pdf2image import convert_from_path
import sqlite3
from PIL import Image
import re






def create_database():
    conn = sqlite3.connect(bank_statements.db)
    cursor = conn.cursor()
    cursor.execute('''CREATE TABLE IF NOT EXISTS transactions (
                        id INTEGER PRIMARY KEY AUTOINCREMENT,
                        date TEXT, 
                        description TEXT, 
                        amount REAL)''')
    conn.commit()
    conn.close()
    





def extract_text_from_pdf():
    text_data=""
    with pdfplumber.open("1.pdf") as pdf:
        for page in pdf.pages:
            text = page.extract_text()
            if text:
                text_data += text + "\n"
    return text_data
    

        





def ocr_from_pdf():
    pop= r"D:\downloads\Release-24.08.0-0\poppler-24.08.0\Library\bin"
    pdf = r""
    images = convert_from_path(pdf_path = pdf, poppler_path = pop)
    text = ""
    for img in images:
        text += pytessetact.image_to_string(img) + "\n"
    return text
        
    
    





!pip install tabula-py


import tabula


pdf_path = "Bank-Statement-Template-1-TemplateLab-1.pdf"
dfs = tabula.read_pdf(pdf_path, pages = 1)
len(dfs)





def store_in_database():
    conn = sqlite3.connect("bank_statements.db")
    cursor = conn.cursor()
    cursor.executemany("INSERT INTO transactions (date, description, amount) VALUES (?, ?, ?)", transactions)
    conn.commit()
    conn.close()
    
    
    





def process_pdf():
    text = extract_text_from_pdf() or ocr_from_pdf()
    transactions =
    store_in_database(transactions)

if __name__ = "__main__":
    create_database()
    pdf_path = "sample_statement.pdf"
    process_pdf(pdf_path)


