!pip install transformers datasets tensorflow torch scikit-learn tf-keras


import pandas as pd
import numpy as np
from transformers import DistilBertTokenizer, TFDistilBertForSequenceClassification
from tensorflow.keras.optimizers import Adam
from tensorflow.keras.losses import SparseCategoricalCrossentropy
from sklearn.model_selection import train_test_split
from tensorflow.keras.utils import to_categorical



!pip install pdf2image
from pdf2image import convert_from_path


!pip install pytesseract
import pytesseract





from PIL import Image


pop= r"D:\downloads\Release-24.08.0-0\poppler-24.08.0\Library\bin"
pdf= r"pdf.pdf"
img1 =convert_from_path(pdf_path = pdf , poppler_path = pop)
img2 = Image.open('img1')



text = ""
text += pytesseract.image_to_string(img1) + "\n"




text
