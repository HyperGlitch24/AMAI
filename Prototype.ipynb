{
 "cells": [
  {
   "cell_type": "markdown",
   "id": "e24388a4-0ff5-47aa-9ff1-41913337e9d6",
   "metadata": {},
   "source": [
    "# Importing libraries\n"
   ]
  },
  {
   "cell_type": "code",
   "execution_count": 4,
   "id": "bb84bc48-b3e6-400a-ada0-fcd76370d699",
   "metadata": {},
   "outputs": [],
   "source": [
    "import pytesseract #for OCR\n",
    "import pdfplumber # to extract text from pdf\n",
    "from pdf2image import convert_from_path #to extract text from image based pdfs\n",
    "import sqlite3 # for database\n",
    "from PIL import Image #to manipulate images\n",
    "import re #regular exp"
   ]
  },
  {
   "cell_type": "markdown",
   "id": "304f0cf0-9cca-43ea-82f3-f9e97a2f976c",
   "metadata": {},
   "source": [
    "# Extracting text from Image based Pdfs (OCR)"
   ]
  },
  {
   "cell_type": "markdown",
   "id": "03c786c4-adc2-4f5b-b459-619cee1e5c2c",
   "metadata": {},
   "source": [
    "The text is extracted from the image based pdfs with the help of Poppler and Pytessaract libraries and is stored in the text_data variable. To run this code snippet, poppler has to be locally installed in your computer and the variable pop has to be updated with its path."
   ]
  },
  {
   "cell_type": "code",
   "execution_count": 121,
   "id": "d7ac2f04-5b56-4511-aef2-72a6489df73a",
   "metadata": {},
   "outputs": [
    {
     "data": {
      "text/plain": [
       "'Bank Statement\\n\\nBank Name: XYZ Bank\\nAccount Holder: John Doe\\nAccount Number: 123456789\\nStatement Date: February 2024\\n\\nDescription Amount\\n\\nGym Membership\\n\\n-$50.75\\n$3000.00\\n-$120.50\\n\\n01-02-24\\n01-05-24\\n\\n01-10-24\\n\\n01-12-24 -$200.00\\n\\n01-18-24\\n01-20-24\\n01-22-24\\n01-25-24\\n\\n\\n'"
      ]
     },
     "execution_count": 121,
     "metadata": {},
     "output_type": "execute_result"
    }
   ],
   "source": [
    "pop= r\"D:\\downloads\\Release-24.08.0-0\\poppler-24.08.0\\Library\\bin\" \n",
    "pdf = r\"bank_statement (3).pdf\"\n",
    "images = convert_from_path(pdf_path = pdf, poppler_path = pop)\n",
    "text_data = \"\"\n",
    "for img in images:\n",
    "    text_data += pytesseract.image_to_string(img) + \"\\n\"\n",
    "text_data"
   ]
  },
  {
   "cell_type": "markdown",
   "id": "0ba91847-ab03-45c5-b6f6-e035129bd6fd",
   "metadata": {},
   "source": [
    "# Extracting text from PDFs"
   ]
  },
  {
   "cell_type": "markdown",
   "id": "86044127-a493-461c-a221-6722d7e3fc56",
   "metadata": {},
   "source": [
    "This code uses pdfplumber library to extract the text from the pdf and stores it in the text_data variable. The user has to have the idea of what kind of pdf they are giving as an input and should only run either of the code snippet to avoid the over writing of the text_data variable."
   ]
  },
  {
   "cell_type": "code",
   "execution_count": 142,
   "id": "6c5dbaf2-9795-4237-8c3c-d679461a60fa",
   "metadata": {},
   "outputs": [
    {
     "data": {
      "text/plain": [
       "'Bank Statement\\nBank Name: XYZ Bank\\nAccount Holder: John Doe\\nAccount Number: 123456789\\nStatement Date: February 2024\\nDate Description Amount\\n01-02-24 Grocery Store -$50.75\\n01-05-24 Salary Deposit $3000.00\\n01-07-24 Utility Bill -$120.50\\n01-10-24 Online Purchase -$35.99\\n01-12-24 ATM Withdrawal -$200.00\\n01-15-24 Gas Station -$45.20\\n01-18-24 Restaurant -$80.00\\n01-20-24 Electric Bill -$90.50\\n01-22-24 Internet Bill -$60.00\\n01-25-24 Gym Membership -$40.00\\n'"
      ]
     },
     "execution_count": 142,
     "metadata": {},
     "output_type": "execute_result"
    }
   ],
   "source": [
    "text_data=\"\"\n",
    "with pdfplumber.open(\"bank_statement (3).pdf\") as pdf:\n",
    "    for page in pdf.pages:\n",
    "        text = page.extract_text()\n",
    "        if text:\n",
    "            text_data += text + \"\\n\"\n",
    "            \n",
    "text_data"
   ]
  },
  {
   "cell_type": "markdown",
   "id": "95bb5310-7580-4a37-9dc0-6280e6046dbd",
   "metadata": {},
   "source": [
    "# Extracting Transaction details "
   ]
  },
  {
   "cell_type": "markdown",
   "id": "a07a9af2-0c37-48e4-852d-292c5ba58a5a",
   "metadata": {},
   "source": [
    "The transaction details are extracted from the text_data variable, with regular expressions we extract the transaction information like date, description and the transacted amount from the text_data.\n",
    "Note: since this is only a prototype, we made a bank statement by ourselves and build the extraction code acccordingly which works for this template, this code will not work with bank statements of other formats."
   ]
  },
  {
   "cell_type": "code",
   "execution_count": 145,
   "id": "8027e0df-a80d-4280-a1e0-b34ec3513e99",
   "metadata": {},
   "outputs": [
    {
     "data": {
      "text/plain": [
       "[('01-05-24', 'Salary Deposit', 3000.0)]"
      ]
     },
     "execution_count": 145,
     "metadata": {},
     "output_type": "execute_result"
    }
   ],
   "source": [
    "transactions = []\n",
    "transaction_pattern = r\"(\\d{2}-\\d{2}-\\d{2})\\s+(.+?)\\s+\\$(-?\\d+\\.\\d{2})\"\n",
    "matches = re.findall(transaction_pattern, text_data)\n",
    "\n",
    "for date, description, amount in matches:\n",
    "    try:\n",
    "           amount = float(amount)\n",
    "           transactions.append((date, description.strip(), amount))\n",
    "    except ValueError:\n",
    "           continue  \n",
    "\n",
    "transactions"
   ]
  },
  {
   "cell_type": "code",
   "execution_count": 173,
   "id": "c73fc60a-91c1-42d2-a314-b49d0a0b9150",
   "metadata": {},
   "outputs": [
    {
     "name": "stdout",
     "output_type": "stream",
     "text": [
      "Extracted Transactions:\n",
      "('01-02-24', 'Grocery Store', -50.75)\n",
      "('01-05-24', 'Salary Deposit', 3000.0)\n",
      "('01-07-24', 'Utility Bill', -120.5)\n",
      "('01-10-24', 'Online Purchase', -35.99)\n",
      "('01-12-24', 'ATM Withdrawal', -200.0)\n",
      "('01-15-24', 'Gas Station', -45.2)\n",
      "('01-18-24', 'Restaurant', -80.0)\n",
      "('01-20-24', 'Electric Bill', -90.5)\n",
      "('01-22-24', 'Internet Bill', -60.0)\n",
      "('01-25-24', 'Gym Membership', -40.0)\n"
     ]
    }
   ],
   "source": [
    "\n",
    "transactions = []\n",
    "lines = text_data.split('\\n')\n",
    "for line in lines:\n",
    "    if 'Date' in line or 'Bank' in line or 'Account' in line or 'Statement' in line or not line.strip():\n",
    "        continue\n",
    "    try:\n",
    "        parts = line.split()\n",
    "        if len(parts) >= 3:\n",
    "            date = parts[0]\n",
    "            amount = parts[-1].replace('$', '').replace('-$', '-')\n",
    "            description = ' '.join(parts[1:-1])\n",
    "            amount = float(amount)\n",
    "            transactions.append((date, description, amount))\n",
    "    except:\n",
    "        continue\n",
    "print(\"Extracted Transactions:\")\n",
    "for transaction in transactions:\n",
    "    print(transaction)"
   ]
  },
  {
   "cell_type": "markdown",
   "id": "f55d67a2-9f1e-4c4a-80a3-8ba6b3b00219",
   "metadata": {},
   "source": [
    "# Setting up the Database"
   ]
  },
  {
   "cell_type": "markdown",
   "id": "c8201061-6eee-4965-be94-721113b49042",
   "metadata": {},
   "source": [
    "We are using Sqlite3, a python inbuilt database, this code snippet initialises the database and creates a table with account number of the customer as its name(if doesnt exists) with date, description and amount as its columns."
   ]
  },
  {
   "cell_type": "code",
   "execution_count": 87,
   "id": "3d9cb392-28d7-4e0c-b236-cbd4409c59e2",
   "metadata": {},
   "outputs": [],
   "source": [
    "match = re.search(r'Account Number:\\s*(\\d+)', text_data)\n",
    "account_number= match.group(1) \n",
    "conn = sqlite3.connect(\"bank_statements.db\")\n",
    "cursor = conn.cursor()\n",
    "query = f'''CREATE TABLE IF NOT EXISTS account_{account_number} (\n",
    "                    id INTEGER PRIMARY KEY AUTOINCREMENT,\n",
    "                    date TEXT, \n",
    "                    description TEXT, \n",
    "                    amount REAL\n",
    "                )'''\n",
    "cursor.execute(query)\n",
    "conn.commit()\n",
    "conn.close()"
   ]
  },
  {
   "cell_type": "markdown",
   "id": "c6b11802-a884-4801-b83e-6c8c0e02b4f2",
   "metadata": {},
   "source": [
    "# Storing Transactions in Database"
   ]
  },
  {
   "cell_type": "markdown",
   "id": "283238d9-695b-473e-9652-789949f38fdf",
   "metadata": {},
   "source": [
    "This code snippet stores the transaction in the database."
   ]
  },
  {
   "cell_type": "code",
   "execution_count": 94,
   "id": "06d8eada-466d-4dfc-97e0-0efb7ac68bd1",
   "metadata": {},
   "outputs": [
    {
     "name": "stdout",
     "output_type": "stream",
     "text": [
      " Transactions stored in table: account_123456789\n"
     ]
    }
   ],
   "source": [
    "conn = sqlite3.connect(\"bank_statements.db\")\n",
    "cursor = conn.cursor()\n",
    "\n",
    "query = f\"INSERT INTO account_{account_number} (date, description, amount) VALUES (?, ?, ?)\"\n",
    "cursor.executemany(query, transactions)\n",
    "    \n",
    "conn.commit()\n",
    "conn.close()\n",
    "print(f\" Transactions stored in table: account_{account_number}\")"
   ]
  },
  {
   "cell_type": "markdown",
   "id": "512d2dc4-1727-4f4b-a442-3824ece284d9",
   "metadata": {},
   "source": [
    "# Fetch the transactions from Database\n"
   ]
  },
  {
   "cell_type": "markdown",
   "id": "513b94db-1c01-4495-aa14-bda51cc98ad5",
   "metadata": {},
   "source": [
    "This code snippet fetches the transaction details of the customer with the help of their account number"
   ]
  },
  {
   "cell_type": "code",
   "execution_count": null,
   "id": "f75b412a-3ba5-41f4-89ea-1fcc891b14eb",
   "metadata": {},
   "outputs": [],
   "source": [
    "\n",
    "conn = sqlite3.connect(\"bank_statements.db\")\n",
    "cursor = conn.cursor()\n",
    "\n",
    "table_name = f\"account_{account_number}\" \n",
    "\n",
    "try:\n",
    "    cursor.execute(f\"SELECT date, description, amount FROM {table_name}\")\n",
    "    transactions = cursor.fetchall() \n",
    "\n",
    "    if not transactions:\n",
    "        print(f\" No transactions found for account {account_number}.\")\n",
    "    else:\n",
    "        print(f\"Transactions for Account {account_number}:\")\n",
    "        for transaction in transactions:\n",
    "            print(transaction)\n",
    "\n",
    "except sqlite3.Error as e:\n",
    "    print(f\"Database error: {e}\")\n",
    "\n",
    "finally:\n",
    "    conn.close()\n"
   ]
  },
  {
   "cell_type": "code",
   "execution_count": null,
   "id": "0d5de6e1-2b9f-4cad-85b0-8ef17f68aa10",
   "metadata": {},
   "outputs": [],
   "source": []
  }
 ],
 "metadata": {
  "kernelspec": {
   "display_name": "Python 3 (ipykernel)",
   "language": "python",
   "name": "python3"
  },
  "language_info": {
   "codemirror_mode": {
    "name": "ipython",
    "version": 3
   },
   "file_extension": ".py",
   "mimetype": "text/x-python",
   "name": "python",
   "nbconvert_exporter": "python",
   "pygments_lexer": "ipython3",
   "version": "3.12.7"
  }
 },
 "nbformat": 4,
 "nbformat_minor": 5
}
